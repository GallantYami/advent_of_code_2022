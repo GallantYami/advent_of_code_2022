{
 "cells": [
  {
   "attachments": {},
   "cell_type": "markdown",
   "metadata": {},
   "source": [
    "# Random code"
   ]
  },
  {
   "cell_type": "code",
   "execution_count": null,
   "metadata": {},
   "outputs": [],
   "source": []
  },
  {
   "attachments": {},
   "cell_type": "markdown",
   "metadata": {},
   "source": [
    "# Numero **UNO**"
   ]
  },
  {
   "attachments": {},
   "cell_type": "markdown",
   "metadata": {},
   "source": [
    "1. Find the Elf carrying the most Calories. How many total Calories is that Elf carrying?"
   ]
  },
  {
   "cell_type": "code",
   "execution_count": 159,
   "metadata": {},
   "outputs": [
    {
     "data": {
      "text/plain": [
       "72718"
      ]
     },
     "execution_count": 159,
     "metadata": {},
     "output_type": "execute_result"
    }
   ],
   "source": [
    "with open('data_1.txt') as f: # Reading the file.\n",
    "    cals = f.read().split('\\n\\n')\n",
    "    each_elf_cal: list[int] = [sum(map(int, elf.split('\\n'))) for elf in cals] # Sum of  each list strings numbers.\n",
    "max(each_elf_cal)"
   ]
  },
  {
   "attachments": {},
   "cell_type": "markdown",
   "metadata": {},
   "source": [
    "2. Find the top three Elves carrying the most Calories. How many Calories are those Elves carrying in total?"
   ]
  },
  {
   "cell_type": "code",
   "execution_count": 160,
   "metadata": {},
   "outputs": [
    {
     "data": {
      "text/plain": [
       "213089"
      ]
     },
     "execution_count": 160,
     "metadata": {},
     "output_type": "execute_result"
    }
   ],
   "source": [
    "# each_elf_cal.sort # Sorting out original vector.\n",
    "sum(sorted(each_elf_cal)[-3:]) # Sorting elements from smallest to biggest and counting sum of 3 last elements."
   ]
  },
  {
   "cell_type": "code",
   "execution_count": 161,
   "metadata": {},
   "outputs": [
    {
     "data": {
      "text/plain": [
       "213089"
      ]
     },
     "execution_count": 161,
     "metadata": {},
     "output_type": "execute_result"
    }
   ],
   "source": [
    "# Writing functions in sequential order.\n",
    "\n",
    "def pipe(data, *funcs):\n",
    "    res = data\n",
    "    for func in funcs:\n",
    "        res = func(res)\n",
    "    return res\n",
    "\n",
    "pipe(each_elf_cal, sorted, lambda l: l[-3:], sum)"
   ]
  },
  {
   "attachments": {},
   "cell_type": "markdown",
   "metadata": {},
   "source": [
    "# Numero **DOS**"
   ]
  },
  {
   "attachments": {},
   "cell_type": "markdown",
   "metadata": {},
   "source": [
    "1. What would your total score be if everything goes exactly according to your strategy guide?"
   ]
  },
  {
   "cell_type": "code",
   "execution_count": 162,
   "metadata": {},
   "outputs": [
    {
     "data": {
      "text/plain": [
       "10718"
      ]
     },
     "execution_count": 162,
     "metadata": {},
     "output_type": "execute_result"
    }
   ],
   "source": [
    "import pandas as pd\n",
    "\n",
    "rounds = pd.read_csv('data_2.txt', sep = ' ', names = [\"P1\", \"P2\"]) # Reading text file into DataFrame.\n",
    "\n",
    "# shape = rounds['P2'][0]\n",
    "# shapes = rounds.loc[0].tolist()\n",
    "\n",
    "# A, X - Rock; B, Y - Paper; C, Z - Scissors.\n",
    "\n",
    "def scoring(shape, shapes):\n",
    "    # Giving points for picked shape.\n",
    "    if shape == 'X':\n",
    "        points_1 = 1 # rock\n",
    "    elif shape == 'Y':\n",
    "        points_1 = 2 # paper\n",
    "    elif shape == 'Z':\n",
    "        points_1 = 3 # scissors\n",
    "\n",
    "    # Giving points for winning.\n",
    "    if shapes in [['A', 'Z'], ['B', 'X'], ['C', 'Y']]:\n",
    "        points_2 = 0 # loss\n",
    "    elif shapes in [['A', 'X'], ['B', 'Y'], ['C', 'Z']]:\n",
    "        points_2 = 3 # draw\n",
    "    elif shapes in [['A', 'Y'], ['B', 'Z'], ['C', 'X']]:\n",
    "        points_2 = 6 # win\n",
    "\n",
    "    return points_1 + points_2\n",
    "\n",
    "# Final score:\n",
    "sum([scoring(p2, [p1, p2]) for p1, p2 in zip(rounds['P1'], rounds['P2'])]) # Performing custom function for each df row and adding up final vector values.\n"
   ]
  },
  {
   "attachments": {},
   "cell_type": "markdown",
   "metadata": {},
   "source": [
    "2. Following the Elf's instructions for the second column, what would your total score be if everything goes exactly according to your strategy guide?"
   ]
  },
  {
   "cell_type": "code",
   "execution_count": 163,
   "metadata": {},
   "outputs": [
    {
     "data": {
      "text/plain": [
       "14652"
      ]
     },
     "execution_count": 163,
     "metadata": {},
     "output_type": "execute_result"
    }
   ],
   "source": [
    "def scoring(p1, p2):\n",
    "\n",
    "    if p2 == 'X': # loss\n",
    "        points_1 = 0 \n",
    "        points_2 = {'A': 3, 'B': 1, 'C': 2} # Assigned points for specific loss.\n",
    "\n",
    "    elif p2 == 'Y': # draw\n",
    "        points_1 = 3\n",
    "        points_2 = {'A': 1, 'B': 2, 'C': 3} # Assigned points for specific draw.\n",
    "\n",
    "    elif p2 == 'Z': # win\n",
    "        points_1 = 6\n",
    "        points_2 = {'A': 2, 'B': 3, 'C': 1} # Assigned points for specific win.\n",
    "\n",
    "    return points_1 + points_2[p1]\n",
    "\n",
    "# Final score:\n",
    "sum([scoring(p1, p2) for p1, p2 in zip(rounds['P1'], rounds['P2'])]) # Performing custom function for each df row and adding up final vector values."
   ]
  },
  {
   "attachments": {},
   "cell_type": "markdown",
   "metadata": {},
   "source": [
    "# Numero **TRES**"
   ]
  },
  {
   "attachments": {},
   "cell_type": "markdown",
   "metadata": {},
   "source": [
    "1. Find the item type that appears in both compartments of each rucksack. What is the sum of the priorities of those item types?"
   ]
  },
  {
   "cell_type": "code",
   "execution_count": 161,
   "metadata": {},
   "outputs": [
    {
     "data": {
      "text/plain": [
       "7872"
      ]
     },
     "execution_count": 161,
     "metadata": {},
     "output_type": "execute_result"
    }
   ],
   "source": [
    "import string # For alphabet.\n",
    "\n",
    "with open('data_3.txt') as f: # Reading the file.\n",
    "    rucksacks = f.read().split('\\n')\n",
    "\n",
    "def prioritize(rucksack):\n",
    "\n",
    "    # Splitting string into two equal strings.\n",
    "    comp_1, comp_2 = rucksack[:len(rucksack)//2], rucksack[len(rucksack)//2:]\n",
    "\n",
    "    # Finding the intersection of two strings.\n",
    "    intr = ''.join(set(comp_1).intersection(comp_2))\n",
    "    \n",
    "    # Assigning numbers for each alphabet letter in dictionary form.\n",
    "    priorities = dict(zip(string.ascii_lowercase + string.ascii_uppercase, range(1, 53)))\n",
    "\n",
    "    return priorities[intr]\n",
    "\n",
    "# Sum of priorities:\n",
    "sum([prioritize(rucksack) for rucksack in rucksacks])"
   ]
  },
  {
   "attachments": {},
   "cell_type": "markdown",
   "metadata": {},
   "source": [
    "2. Find the item type that corresponds to the badges of each three-Elf group. What is the sum of the priorities of those item types?"
   ]
  },
  {
   "cell_type": "code",
   "execution_count": 162,
   "metadata": {},
   "outputs": [
    {
     "data": {
      "text/plain": [
       "2497"
      ]
     },
     "execution_count": 162,
     "metadata": {},
     "output_type": "execute_result"
    }
   ],
   "source": [
    "# Seperating list of items into groups by N = 3.\n",
    "groups = [rucksacks[n: n + 3] for n in range(0, len(rucksacks), 3)]\n",
    "\n",
    "def prioritize_badge(group):\n",
    "    \n",
    "    # Finding the intersection of two strings.\n",
    "    intr = ''.join(set(group[0]).intersection(group[1], group[2]))\n",
    "    \n",
    "    # Assigning numbers for each alphabet letter in dictionary form.\n",
    "    priorities = dict(zip(string.ascii_lowercase + string.ascii_uppercase, range(1, 53)))\n",
    "\n",
    "    return priorities[intr]\n",
    "\n",
    "# Sum of priorities:\n",
    "sum([prioritize_badge(group) for group in groups])\n"
   ]
  },
  {
   "attachments": {},
   "cell_type": "markdown",
   "metadata": {},
   "source": [
    "# Numero **CUATRO**"
   ]
  },
  {
   "attachments": {},
   "cell_type": "markdown",
   "metadata": {},
   "source": [
    "1. In how many assignment pairs does one range fully contain the other?"
   ]
  },
  {
   "cell_type": "code",
   "execution_count": 166,
   "metadata": {},
   "outputs": [
    {
     "data": {
      "text/plain": [
       "507"
      ]
     },
     "execution_count": 166,
     "metadata": {},
     "output_type": "execute_result"
    }
   ],
   "source": [
    "import pandas as pd\n",
    "\n",
    "pairs = pd.read_csv('data_4.txt', sep = ',', names = [\"E1\", \"E2\"]) # Reading text file into DataFrame.\n",
    "pairs\n",
    "\n",
    "def check_if_contain(range_1, range_2):\n",
    "\n",
    "    # Creating a set from given range in a string form.\n",
    "    chores_1 = set(range(int(range_1.split('-')[0]), int(range_1.split('-')[1]) + 1))\n",
    "    chores_2 = set(range(int(range_2.split('-')[0]), int(range_2.split('-')[1]) + 1))\n",
    "\n",
    "    return chores_1.issubset(chores_2) or chores_2.issubset(chores_1)\n",
    "\n",
    "# Sum of contains.\n",
    "sum([check_if_contain(e1, e2) for e1, e2 in zip(pairs['E1'], pairs['E2'])])"
   ]
  },
  {
   "attachments": {},
   "cell_type": "markdown",
   "metadata": {},
   "source": [
    "2. In how many assignment pairs do the ranges overlap?"
   ]
  },
  {
   "cell_type": "code",
   "execution_count": 168,
   "metadata": {},
   "outputs": [
    {
     "data": {
      "text/plain": [
       "897"
      ]
     },
     "execution_count": 168,
     "metadata": {},
     "output_type": "execute_result"
    }
   ],
   "source": [
    "def check_if_overlap(range_1, range_2):\n",
    "\n",
    "    # Creating a set from given range in a string form.\n",
    "    chores_1 = set(range(int(range_1.split('-')[0]), int(range_1.split('-')[1]) + 1))\n",
    "    chores_2 = set(range(int(range_2.split('-')[0]), int(range_2.split('-')[1]) + 1))\n",
    "\n",
    "    return not chores_1.isdisjoint(chores_2) # Tikrina ar egzituoja sankirta.\n",
    "\n",
    "# Sum of overlap.\n",
    "sum([check_if_overlap(e1, e2) for e1, e2 in zip(pairs['E1'], pairs['E2'])])"
   ]
  },
  {
   "attachments": {},
   "cell_type": "markdown",
   "metadata": {},
   "source": [
    "# Numero **CINCO**"
   ]
  },
  {
   "attachments": {},
   "cell_type": "markdown",
   "metadata": {},
   "source": [
    "1. After the rearrangement procedure completes, what crate ends up on top of each stack?"
   ]
  },
  {
   "cell_type": "code",
   "execution_count": 170,
   "metadata": {},
   "outputs": [
    {
     "data": {
      "text/plain": [
       "'TQRFCBSJJ'"
      ]
     },
     "execution_count": 170,
     "metadata": {},
     "output_type": "execute_result"
    }
   ],
   "source": [
    "import numpy as np\n",
    "import re # extracting numbers from string.\n",
    "\n",
    "with open('data_5.txt') as f: # Reading the file.\n",
    "    data = f.readlines()\n",
    "\n",
    "# Seperating crates data from instructions data.\n",
    "sep = data.index(\"\\n\") # Seperator.\n",
    "crates_raw = data[0:(sep - 1)] # Initial data about crates' placement.\n",
    "instr = data[(sep + 1):len(data)] # Instructions how to move crates.\n",
    "instr = [re.findall(r'\\d+', i) for i in instr] # Only leaving numbers for instructions.\n",
    "instr = [[int(n) for n in i] for i in instr] # Transforming to integer.\n",
    "# Instructions index meaning: 0 - crate placement in a stack (counting from top), 1 - from where, 2- to where.\n",
    "\n",
    "# Converting raw crate data to list, where each sublist is a stack.\n",
    "\n",
    "crates = np.zeros((9, 9))\n",
    "#crates = np.vstack([crates, ])\n",
    "crates = []\n",
    "\n",
    "for j in range(8):\n",
    "    crates += [[crates_raw[j][i] for i in  list(range(1, len(crates_raw[0]), 4))]]\n",
    "crates = np.array(crates).T.tolist() # Rotating list.\n",
    "stacks = [' '.join(stack).split() for stack in crates] # Removing empty strings.\n",
    "\n",
    "# Executing instructions.\n",
    "def execute(i):\n",
    "    p = i[0] # placement\n",
    "    f = i[1] # from where\n",
    "    t = i[2] # to where\n",
    "\n",
    "    picked = stacks[f - 1][0:p] # Picking up crates.\n",
    "    stacks[t - 1][:0] = picked[::-1] # Placing crates.\n",
    "    stacks[f - 1] = stacks[f - 1][p:] # Removing old data.\n",
    "[execute(i) for i in instr]\n",
    "\n",
    "stacks = [x for x in stacks if x] # Removing empty lists in case there are any.\n",
    "\n",
    "# Crates that end up on top of each stack:\n",
    "''.join(list(zip(*stacks))[0]) # Joining first elements of every list into one string."
   ]
  },
  {
   "attachments": {},
   "cell_type": "markdown",
   "metadata": {},
   "source": [
    "2. After the rearrangement procedure completes, what crate ends up on top of each stack?"
   ]
  },
  {
   "cell_type": "code",
   "execution_count": 171,
   "metadata": {},
   "outputs": [
    {
     "data": {
      "text/plain": [
       "'RMHFJNVFP'"
      ]
     },
     "execution_count": 171,
     "metadata": {},
     "output_type": "execute_result"
    }
   ],
   "source": [
    "# Simply removing [::-1] (reverse order) from - stacks[t - 1][:0] = picked[::-1] # Placing crates.\n",
    "\n",
    "stacks = [' '.join(stack).split() for stack in crates] # Removing empty strings.\n",
    "\n",
    "# Executing instructions.\n",
    "def execute(i):\n",
    "    p = i[0] # placement\n",
    "    f = i[1] # from where\n",
    "    t = i[2] # to where\n",
    "\n",
    "    picked = stacks[f - 1][0:p] # Picking up crates.\n",
    "    stacks[t - 1][:0] = picked # Placing crates.\n",
    "    stacks[f - 1] = stacks[f - 1][p:] # Removing old data.\n",
    "[execute(i) for i in instr]\n",
    "\n",
    "stacks = [x for x in stacks if x] # Removing empty lists in case there are any.\n",
    "\n",
    "# Crates that end up on top of each stack:\n",
    "''.join(list(zip(*stacks))[0]) # Joining first elements of every list into one string."
   ]
  },
  {
   "attachments": {},
   "cell_type": "markdown",
   "metadata": {},
   "source": [
    "# Numero **6**"
   ]
  },
  {
   "cell_type": "code",
   "execution_count": 173,
   "metadata": {},
   "outputs": [
    {
     "data": {
      "text/plain": [
       "[['H', 'L', 'R', 'F', 'B', 'C', 'J', 'M'],\n",
       " ['D', 'C', 'Z'],\n",
       " ['W', 'G', 'N', 'C', 'F', 'J', 'H'],\n",
       " ['B', 'S', 'T', 'M', 'D', 'J', 'P'],\n",
       " ['J', 'R', 'D', 'C', 'N'],\n",
       " ['Z', 'G', 'J', 'P', 'Q', 'D', 'L', 'W'],\n",
       " ['H', 'R', 'F', 'T', 'Z', 'P'],\n",
       " ['G', 'M', 'V', 'L'],\n",
       " ['J', 'R', 'Q', 'F', 'P', 'G', 'B', 'C']]"
      ]
     },
     "execution_count": 173,
     "metadata": {},
     "output_type": "execute_result"
    }
   ],
   "source": []
  },
  {
   "cell_type": "code",
   "execution_count": null,
   "metadata": {},
   "outputs": [],
   "source": []
  },
  {
   "cell_type": "code",
   "execution_count": null,
   "metadata": {},
   "outputs": [],
   "source": []
  },
  {
   "cell_type": "code",
   "execution_count": null,
   "metadata": {},
   "outputs": [],
   "source": []
  },
  {
   "cell_type": "code",
   "execution_count": null,
   "metadata": {},
   "outputs": [],
   "source": []
  },
  {
   "cell_type": "code",
   "execution_count": null,
   "metadata": {},
   "outputs": [],
   "source": []
  },
  {
   "cell_type": "code",
   "execution_count": null,
   "metadata": {},
   "outputs": [],
   "source": []
  },
  {
   "cell_type": "code",
   "execution_count": null,
   "metadata": {},
   "outputs": [],
   "source": []
  },
  {
   "cell_type": "code",
   "execution_count": null,
   "metadata": {},
   "outputs": [],
   "source": []
  },
  {
   "cell_type": "code",
   "execution_count": null,
   "metadata": {},
   "outputs": [],
   "source": []
  },
  {
   "cell_type": "code",
   "execution_count": null,
   "metadata": {},
   "outputs": [],
   "source": []
  },
  {
   "cell_type": "code",
   "execution_count": null,
   "metadata": {},
   "outputs": [],
   "source": []
  }
 ],
 "metadata": {
  "kernelspec": {
   "display_name": "Python 3 (ipykernel)",
   "language": "python",
   "name": "python3"
  },
  "language_info": {
   "codemirror_mode": {
    "name": "ipython",
    "version": 3
   },
   "file_extension": ".py",
   "mimetype": "text/x-python",
   "name": "python",
   "nbconvert_exporter": "python",
   "pygments_lexer": "ipython3",
   "version": "3.11.1"
  }
 },
 "nbformat": 4,
 "nbformat_minor": 2
}
